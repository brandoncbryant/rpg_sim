{
 "cells": [
  {
   "cell_type": "markdown",
   "id": "e003cf09",
   "metadata": {},
   "source": [
    "## Notes\n",
    "- geomancer = spells are all about the battle field itself/manipulating the environment\n",
    "  - earth pillars, wind tunnels, ice surfaces, fire walls, etc"
   ]
  },
  {
   "cell_type": "markdown",
   "id": "1c60247a",
   "metadata": {},
   "source": [
    "## Version 0\n",
    "- **Classes**\n",
    "    - warrior, mage, priest, thief\n",
    "- **Stats**\n",
    "    - HP, Atk, Rng, Mov"
   ]
  },
  {
   "cell_type": "code",
   "execution_count": 1,
   "id": "c1edc6bb",
   "metadata": {},
   "outputs": [],
   "source": [
    "import numpy as np"
   ]
  },
  {
   "cell_type": "markdown",
   "id": "5234d1d4",
   "metadata": {},
   "source": [
    "## Grid"
   ]
  },
  {
   "cell_type": "code",
   "execution_count": 83,
   "id": "b6b5d28b",
   "metadata": {},
   "outputs": [],
   "source": [
    "## constants\n",
    "NORTH = np.array((0, -1))\n",
    "EAST = np.array((1, 0))\n",
    "SOUTH = np.array((0, 1))\n",
    "WEST = np.array((-1, 0))\n",
    "DIRECTIONS = np.array([NORTH, EAST, SOUTH, WEST])\n",
    "\n",
    "STAY = np.array([0, 0])"
   ]
  },
  {
   "cell_type": "code",
   "execution_count": 136,
   "id": "2b7bcbfd",
   "metadata": {},
   "outputs": [],
   "source": [
    "def rand_dir():\n",
    "    return random_choice(DIRECTIONS)"
   ]
  },
  {
   "cell_type": "code",
   "execution_count": 12,
   "id": "c4cf7a09",
   "metadata": {},
   "outputs": [],
   "source": [
    "class Grid:\n",
    "    \"\"\"\n",
    "    n x n grid\n",
    "    \n",
    "    tracks where units are\n",
    "    \"\"\"\n",
    "    \n",
    "    def __init__(self, size=4):\n",
    "        self.size = size\n",
    "        self.grid = np.zeros((self.size, self.size), dtype=int)\n",
    "        \n",
    "    def clear_grid(self):\n",
    "        self.grid = np.zeros((self.size, self.size), dtype=int)\n",
    "        \n",
    "    def clear_unit(self, unit_id):\n",
    "        pass\n",
    "        \n",
    "    def place_unit(self, unit_id):\n",
    "        pass\n",
    "    \n",
    "    def is_cellempty(self, cell):\n",
    "        return self.grid[cell] == 0"
   ]
  },
  {
   "cell_type": "code",
   "execution_count": null,
   "id": "2e84f3d0",
   "metadata": {},
   "outputs": [],
   "source": [
    "## utility functions\n",
    "def random_choice(a):\n",
    "    idx = np.random.choice(len(a))\n",
    "    return a[idx]"
   ]
  },
  {
   "cell_type": "code",
   "execution_count": 142,
   "id": "9a1f11cf",
   "metadata": {},
   "outputs": [],
   "source": [
    "## grid functions\n",
    "def is_inbounds(grid, pos):\n",
    "    size = grid.shape[0]\n",
    "    x = (0 <= pos[0]) and (pos[0] < size)\n",
    "    y = (0 <= pos[1]) and (pos[1] < size)\n",
    "    return (x and y)\n",
    "\n",
    "def is_cellempty(grid, cell):\n",
    "    empty = False\n",
    "    if is_inbounds(grid, cell):\n",
    "        empty = grid[cell[0], cell[1]] == 0\n",
    "    return empty\n",
    "\n",
    "def dirs_allowed(grid, pos):\n",
    "    size = grid.shape[0]\n",
    "    cells = []\n",
    "    for d in DIRECTIONS:\n",
    "        empty = is_cellempty(grid, pos + d)\n",
    "        inbounds = is_inbounds(grid, pos + d)\n",
    "        allowed = empty and inbounds\n",
    "        cells.append(allowed)\n",
    "    return DIRECTIONS[cells]\n",
    "\n",
    "def clear_unit(grid, cell):\n",
    "    grid[cell[0], cell[1]] = 0\n",
    "    return grid\n",
    "\n",
    "def place_unit(grid, cell, uid):\n",
    "    grid[cell[0], cell[1]] = uid\n",
    "    return grid"
   ]
  },
  {
   "cell_type": "code",
   "execution_count": 164,
   "id": "be23aef2",
   "metadata": {},
   "outputs": [],
   "source": [
    "## unit functions\n",
    "def move(grid, current_pos, uid):\n",
    "    avail_dirs = dirs_allowed(grid, current_pos)\n",
    "    new_pos = current_pos\n",
    "    if len(avail_dirs) > 0:\n",
    "        new_pos = current_pos + random_choice(avail_dirs)\n",
    "        place_unit(grid, new_pos, uid)\n",
    "        clear_unit(grid, current_pos)    \n",
    "    return new_pos"
   ]
  },
  {
   "cell_type": "code",
   "execution_count": 166,
   "id": "b2ee615d",
   "metadata": {},
   "outputs": [],
   "source": [
    "# random walk\n",
    "if False:\n",
    "    size = 4\n",
    "    h = np.zeros((size, size))\n",
    "    pos = np.random.randint(0, size, 2)  # start position\n",
    "    turns = 8\n",
    "    uid = 1\n",
    "\n",
    "    # start game\n",
    "    for turn in range(turns):\n",
    "        print(f\"Turn: {turn + 1}\")\n",
    "\n",
    "        if turn==0:\n",
    "            place_unit(h, pos, uid)\n",
    "        else:\n",
    "            pos = move(h, pos, uid)\n",
    "\n",
    "        print(h,'\\n')"
   ]
  },
  {
   "cell_type": "code",
   "execution_count": null,
   "id": "4a8ede01",
   "metadata": {},
   "outputs": [],
   "source": []
  },
  {
   "cell_type": "code",
   "execution_count": null,
   "id": "71b34235",
   "metadata": {},
   "outputs": [],
   "source": []
  },
  {
   "cell_type": "code",
   "execution_count": null,
   "id": "d6d74c86",
   "metadata": {},
   "outputs": [],
   "source": []
  },
  {
   "cell_type": "markdown",
   "id": "9686ce74",
   "metadata": {},
   "source": [
    "## Units\n",
    "- stats, move, attack"
   ]
  },
  {
   "cell_type": "code",
   "execution_count": null,
   "id": "15dc0bf0",
   "metadata": {},
   "outputs": [],
   "source": [
    "class Warrior:\n",
    "    \n",
    "    def __init__(self):\n",
    "        self.max_hp = 3\n",
    "        self.hp = self.max_hp\n",
    "        self.atk = 2\n",
    "        self.rng = 1\n",
    "        self.move = 1\n",
    "        self.start_pos = (1, 1)\n",
    "        self.pos = self.start_pos\n",
    "        \n",
    "    def move(self):\n",
    "        pass\n",
    "    \n",
    "    def attack(self):\n",
    "        pass\n",
    "    \n",
    "    def _is_enemyinrange(self):\n",
    "        pass"
   ]
  }
 ],
 "metadata": {
  "kernelspec": {
   "display_name": "Python 3 (ipykernel)",
   "language": "python",
   "name": "python3"
  },
  "language_info": {
   "codemirror_mode": {
    "name": "ipython",
    "version": 3
   },
   "file_extension": ".py",
   "mimetype": "text/x-python",
   "name": "python",
   "nbconvert_exporter": "python",
   "pygments_lexer": "ipython3",
   "version": "3.10.5"
  }
 },
 "nbformat": 4,
 "nbformat_minor": 5
}
